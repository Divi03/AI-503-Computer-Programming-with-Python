{
 "cells": [
  {
   "cell_type": "markdown",
   "id": "2d0ff492",
   "metadata": {},
   "source": [
    "## Assignment 3 [AI-503 Computer Programing with Python]\n",
    "Divyansh Sehgal [25901327]\n",
    "### Date of Assignment: 25/09/2025\n",
    "Submition Date: 1/10/2025"
   ]
  },
  {
   "cell_type": "markdown",
   "id": "4afa0d72",
   "metadata": {},
   "source": [
    "### Q1) Generate all prime numbers less than 100.Print them in a spiral format (like a clockwise square spiral) of minimal size that fits all primes."
   ]
  },
  {
   "cell_type": "code",
   "execution_count": null,
   "id": "42da3ae3",
   "metadata": {},
   "outputs": [
    {
     "name": "stdout",
     "output_type": "stream",
     "text": [
      "73 79 83 89 97\n",
      "71 17 19 23 29\n",
      "67 13  2  3 31\n",
      "61 11  7  5 37\n",
      "59 53 47 43 41\n"
     ]
    }
   ],
   "source": [
    "import math\n",
    "\n",
    "def get_primes_upto_100():\n",
    "    primes = []\n",
    "    for num in range(2, 100):\n",
    "        is_prime = True\n",
    "        for i in range(2, int(math.sqrt(num)) + 1):\n",
    "            if num % i == 0:\n",
    "                is_prime = False\n",
    "                break\n",
    "        if is_prime:\n",
    "            primes.append(num)\n",
    "    return primes\n",
    "\n",
    "def create_spiral(primes):\n",
    "    n = len(primes)\n",
    "    size = math.ceil(math.sqrt(n))\n",
    "    if size % 2 == 0:\n",
    "        size += 1  # make size odd to have a center\n",
    "\n",
    "    # Initialize empty matrix\n",
    "    matrix = [[None for _ in range(size)] for _ in range(size)]\n",
    "\n",
    "    # Start from the center\n",
    "    x = y = size // 2\n",
    "    dx, dy = [0, 1, 0, -1], [1, 0, -1, 0]  # right, down, left, up\n",
    "    direction = 0  # start moving right\n",
    "    steps = 1\n",
    "    index = 0\n",
    "\n",
    "    while index < n:\n",
    "        for _ in range(2):  # two times per step size (once horizontally, once vertically)\n",
    "            for _ in range(steps):\n",
    "                if 0 <= x < size and 0 <= y < size:\n",
    "                    if index < n:\n",
    "                        matrix[x][y] = primes[index]\n",
    "                        index += 1\n",
    "                x += dx[direction]\n",
    "                y += dy[direction]\n",
    "            direction = (direction + 1) % 4\n",
    "        steps += 1\n",
    "\n",
    "    # Print the matrix\n",
    "    for row in matrix:\n",
    "        print(\" \".join(f\"{str(v).rjust(2) if v is not None else '  '}\" for v in row))\n",
    "\n",
    "# Main\n",
    "primes = get_primes_upto_100()\n",
    "create_spiral(primes)\n",
    "\n",
    "\n",
    "\n"
   ]
  },
  {
   "cell_type": "markdown",
   "id": "3cd95c37",
   "metadata": {},
   "source": [
    "### Q2) You are a data analyst at a streaming platform, managing user interactions, analytics, and daily operations. Use a for loop to create a text-based graph of hourly views. For example, use * to represent every 5 views."
   ]
  },
  {
   "cell_type": "code",
   "execution_count": null,
   "id": "f8dfa6bb",
   "metadata": {},
   "outputs": [
    {
     "name": "stdout",
     "output_type": "stream",
     "text": [
      "Hourly Views Graph:\n",
      "00: **\n",
      "01: *****\n",
      "02: ******\n",
      "03: *\n",
      "04: \n",
      "05: *********\n",
      "06: ***\n",
      "07: **********\n",
      "08: *\n",
      "09: ****\n",
      "10: *****\n",
      "11: **\n",
      "12: \n",
      "13: \n",
      "14: *\n",
      "15: ***\n",
      "16: ****\n",
      "17: \n",
      "18: *******\n",
      "19: **\n",
      "20: **\n",
      "21: ***\n",
      "22: *\n",
      "23: *\n"
     ]
    }
   ],
   "source": [
    "# Sample hourly views\n",
    "hourly_views = [12, 25, 33, 7, 0, 45, 18, 50, 5, 22, 29, 10, 4, 3, 8, 15, 20, 0, 38, 11, 14, 19, 6, 9]\n",
    "\n",
    "print(\"Hourly Views Graph:\")\n",
    "for hour, views in enumerate(hourly_views):\n",
    "    stars = '*' * (views // 5)\n",
    "    print(f\"{hour:02d}: {stars}\")\n"
   ]
  },
  {
   "cell_type": "markdown",
   "id": "7c9bb944",
   "metadata": {},
   "source": [
    "### Q3) Each video watched generates revenue based on ad impressions:\n",
    "- First 10 views: $0.50 per view\n",
    "- Next 20 views: $0.30 per view\n",
    "- Remaining views: $0.10 per view\n",
    "\n",
    "You are given hourly views for the day. Calculate total daily revenue."
   ]
  },
  {
   "cell_type": "code",
   "execution_count": 3,
   "id": "8f98b07a",
   "metadata": {},
   "outputs": [
    {
     "name": "stdout",
     "output_type": "stream",
     "text": [
      "Total daily revenue: $150.10\n"
     ]
    }
   ],
   "source": [
    "# Reuse the same hourly_views\n",
    "def calculate_revenue(views):\n",
    "    revenue = 0.0\n",
    "    if views <= 10:\n",
    "        revenue = views * 0.50\n",
    "    elif views <= 30:\n",
    "        revenue = 10 * 0.50 + (views - 10) * 0.30\n",
    "    else:\n",
    "        revenue = 10 * 0.50 + 20 * 0.30 + (views - 30) * 0.10\n",
    "    return revenue\n",
    "\n",
    "# Total daily revenue\n",
    "total_revenue = sum(calculate_revenue(v) for v in hourly_views)\n",
    "print(f\"Total daily revenue: ${total_revenue:.2f}\")\n"
   ]
  }
 ],
 "metadata": {
  "kernelspec": {
   "display_name": "myenv38",
   "language": "python",
   "name": "python3"
  },
  "language_info": {
   "codemirror_mode": {
    "name": "ipython",
    "version": 3
   },
   "file_extension": ".py",
   "mimetype": "text/x-python",
   "name": "python",
   "nbconvert_exporter": "python",
   "pygments_lexer": "ipython3",
   "version": "3.8.18"
  }
 },
 "nbformat": 4,
 "nbformat_minor": 5
}
