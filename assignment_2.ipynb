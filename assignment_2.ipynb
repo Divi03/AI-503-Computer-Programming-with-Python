{
 "cells": [
  {
   "cell_type": "markdown",
   "id": "b905e0b7",
   "metadata": {},
   "source": [
    "## Assignment 2 [AI-503 Computer Programing with Python]\n",
    "Divyansh Sehgal [25901327]\n",
    "### Date of Assignment: 09/09/2025\n",
    "Due Date: 12/09/2025"
   ]
  },
  {
   "cell_type": "markdown",
   "id": "fb909abb",
   "metadata": {},
   "source": [
    "### Q1) Write a program to check whether a given number is positive, negative, or zero. \n"
   ]
  },
  {
   "cell_type": "code",
   "execution_count": null,
   "id": "ea6a331f",
   "metadata": {},
   "outputs": [
    {
     "name": "stdout",
     "output_type": "stream",
     "text": [
      "The number is negative.\n"
     ]
    }
   ],
   "source": [
    "# Ask the user to enter a number (can be decimal)\n",
    "num = float(input(\"1. Enter a number: \"))\n",
    "\n",
    "# Check if the number is greater than 0\n",
    "if num > 0:\n",
    "    print(\"The number is positive.\")\n",
    "# Check if the number is less than 0\n",
    "elif num < 0:\n",
    "    print(\"The number is negative.\")\n",
    "# If it is neither > 0 nor < 0, it must be zero\n",
    "else:\n",
    "    print(\"The number is zero.\")"
   ]
  },
  {
   "cell_type": "markdown",
   "id": "589df967",
   "metadata": {},
   "source": [
    "### Q2) Write a program to check whether a given integer is even or odd."
   ]
  },
  {
   "cell_type": "code",
   "execution_count": null,
   "id": "18f1b6ea",
   "metadata": {},
   "outputs": [
    {
     "name": "stdout",
     "output_type": "stream",
     "text": [
      "The number is odd.\n"
     ]
    }
   ],
   "source": [
    "# Ask the user to enter an integer\n",
    "num = int(input(\"2. Enter an integer: \"))\n",
    "\n",
    "# Check if the number is divisible by 2 (even)\n",
    "if num % 2 == 0:\n",
    "    print(\"The number is even.\")\n",
    "# If not divisible by 2, it's odd\n",
    "else:\n",
    "    print(\"The number is odd.\")"
   ]
  },
  {
   "cell_type": "markdown",
   "id": "6b6c2673",
   "metadata": {},
   "source": [
    "### Q3) Write a program to input two numbers and print which one is larger."
   ]
  },
  {
   "cell_type": "code",
   "execution_count": null,
   "id": "0978847e",
   "metadata": {},
   "outputs": [
    {
     "name": "stdout",
     "output_type": "stream",
     "text": [
      "The first number is larger.\n"
     ]
    }
   ],
   "source": [
    "# Ask user to input the first number\n",
    "a = float(input(\"3. Enter first number: \"))\n",
    "# Ask user to input the second number\n",
    "b = float(input(\"Enter second number: \"))\n",
    "\n",
    "# Compare the two numbers\n",
    "if a > b:\n",
    "    print(\"The first number is larger.\")\n",
    "elif b > a:\n",
    "    print(\"The second number is larger.\")\n",
    "# If both are equal\n",
    "else:\n",
    "    print(\"Both numbers are equal.\")"
   ]
  },
  {
   "cell_type": "markdown",
   "id": "a38de693",
   "metadata": {},
   "source": [
    "### Q4) Write a program to find the absolute value of a given number without using the abs()"
   ]
  },
  {
   "cell_type": "code",
   "execution_count": null,
   "id": "0df49c54",
   "metadata": {},
   "outputs": [
    {
     "name": "stdout",
     "output_type": "stream",
     "text": [
      "The absolute value is: 9.0\n"
     ]
    }
   ],
   "source": [
    "# Ask user to enter a number\n",
    "num = float(input(\"4. Enter a number: \"))\n",
    "\n",
    "# If number is negative, multiply by -1 to get positive value\n",
    "if num < 0:\n",
    "    absolute = -num\n",
    "# If number is already positive or zero, keep it as is\n",
    "else:\n",
    "    absolute = num\n",
    "\n",
    "# Display the absolute value\n",
    "print(\"The absolute value is:\", absolute)\n"
   ]
  },
  {
   "cell_type": "markdown",
   "id": "0d2564a7",
   "metadata": {},
   "source": [
    "### Q5) Write a program to check whether a person is eligible to vote or not. (A person is eligible if their age is 18 or above)."
   ]
  },
  {
   "cell_type": "code",
   "execution_count": null,
   "id": "2a9d7608",
   "metadata": {},
   "outputs": [
    {
     "name": "stdout",
     "output_type": "stream",
     "text": [
      "You are eligible to vote.\n"
     ]
    }
   ],
   "source": [
    "# Ask user to input their age\n",
    "age = int(input(\"5. Enter your age: \"))\n",
    "\n",
    "# Check if age is 18 or more\n",
    "if age >= 18:\n",
    "    print(\"You are eligible to vote.\")\n",
    "# If age is less than 18\n",
    "else:\n",
    "    print(\"You are not eligible to vote.\")"
   ]
  },
  {
   "cell_type": "markdown",
   "id": "f4ab301e",
   "metadata": {},
   "source": [
    "### Q6) Write a program to check whether a given year is a leap year or not. (Hint: A leap year is divisible by 4, but not by 100 unless also divisible by 400). "
   ]
  },
  {
   "cell_type": "code",
   "execution_count": null,
   "id": "aa34bcc6",
   "metadata": {},
   "outputs": [
    {
     "name": "stdout",
     "output_type": "stream",
     "text": [
      "It is not a leap year.\n"
     ]
    }
   ],
   "source": [
    "# Ask user to enter a year\n",
    "year = int(input(\"6. Enter a year: \"))\n",
    "\n",
    "# A leap year is divisible by 4\n",
    "# But not by 100 unless also divisible by 400\n",
    "if (year % 4 == 0 and year % 100 != 0) or (year % 400 == 0):\n",
    "    print(\"It is a leap year.\")\n",
    "else:\n",
    "    print(\"It is not a leap year.\")"
   ]
  },
  {
   "cell_type": "markdown",
   "id": "2d56f579",
   "metadata": {},
   "source": [
    "### Q7) Grade Calculation\n",
    "### Write a program that takes marks as input and prints:\n",
    "- 'Pass' if marks are 40 or above\n",
    "- 'Fail' if marks are less than 40"
   ]
  },
  {
   "cell_type": "code",
   "execution_count": null,
   "id": "35fa3310",
   "metadata": {},
   "outputs": [
    {
     "name": "stdout",
     "output_type": "stream",
     "text": [
      "Pass\n"
     ]
    }
   ],
   "source": [
    "# Ask user to input marks\n",
    "marks = float(input(\"7. Enter your marks: \"))\n",
    "\n",
    "# Pass if marks are 40 or above\n",
    "if marks >= 40:\n",
    "    print(\"Pass\")\n",
    "# Fail if marks are below 40\n",
    "else:\n",
    "    print(\"Fail\")"
   ]
  },
  {
   "cell_type": "markdown",
   "id": "052d7c5b",
   "metadata": {},
   "source": [
    "### Q8) Multiple of 5\n",
    "### Write a program to check whether a given number is a multiple of 5."
   ]
  },
  {
   "cell_type": "code",
   "execution_count": null,
   "id": "f947ae21",
   "metadata": {},
   "outputs": [
    {
     "name": "stdout",
     "output_type": "stream",
     "text": [
      "The number is a multiple of 5.\n"
     ]
    }
   ],
   "source": [
    "# Ask user to enter a number\n",
    "num = int(input(\"8. Enter a number: \"))\n",
    "\n",
    "# Check if the number is divisible by 5\n",
    "if num % 5 == 0:\n",
    "    print(\"The number is a multiple of 5.\")\n",
    "else:\n",
    "    print(\"The number is not a multiple of 5.\")"
   ]
  },
  {
   "cell_type": "markdown",
   "id": "020388b6",
   "metadata": {},
   "source": [
    "### Q9) Write a program to input a character and check whether it is an uppercase letter, lowercase letter, or not a letter."
   ]
  },
  {
   "cell_type": "code",
   "execution_count": null,
   "id": "3ae39e95",
   "metadata": {},
   "outputs": [
    {
     "name": "stdout",
     "output_type": "stream",
     "text": [
      "It is an uppercase letter.\n"
     ]
    }
   ],
   "source": [
    "# Ask user to input a single character\n",
    "ch = input(\"9. Enter a character: \")\n",
    "\n",
    "# Check if character is an uppercase letter using ASCII ranges\n",
    "if 'A' <= ch <= 'Z':\n",
    "    print(\"It is an uppercase letter.\")\n",
    "# Check if character is a lowercase letter\n",
    "elif 'a' <= ch <= 'z':\n",
    "    print(\"It is a lowercase letter.\")\n",
    "# If neither, it's not a letter\n",
    "else:\n",
    "    print(\"It is not a letter.\")"
   ]
  },
  {
   "cell_type": "markdown",
   "id": "bce5cd6e",
   "metadata": {},
   "source": [
    "### Q10) Write a program that calculates the discount:\n",
    "\n",
    "- If purchase amount is greater than or equal to 1000, apply a 10% discount.\n",
    "- Otherwise, no discount.\n",
    "Finally, print the final bill amount."
   ]
  },
  {
   "cell_type": "code",
   "execution_count": 11,
   "id": "03baa75f",
   "metadata": {},
   "outputs": [
    {
     "name": "stdout",
     "output_type": "stream",
     "text": [
      "Discount applied: ₹ 120.0\n",
      "Final bill amount: ₹ 1080.0\n"
     ]
    }
   ],
   "source": [
    "# -------------------------------\n",
    "# 10. Discount Calculator (2 Marks)\n",
    "# -------------------------------\n",
    "\n",
    "# Ask user to enter the purchase amount\n",
    "amount = float(input(\"10. Enter purchase amount: \"))\n",
    "\n",
    "# If purchase is 1000 or more, apply 10% discount\n",
    "if amount >= 1000:\n",
    "    discount = amount * 0.10      # Calculate 10% discount\n",
    "    final_amount = amount - discount  # Subtract discount from total\n",
    "    print(\"Discount applied: ₹\", discount)\n",
    "# If purchase is less than 1000, no discount\n",
    "else:\n",
    "    final_amount = amount\n",
    "    print(\"No discount applied.\")\n",
    "\n",
    "# Print final bill after discount (if any)\n",
    "print(\"Final bill amount: ₹\", final_amount)"
   ]
  }
 ],
 "metadata": {
  "kernelspec": {
   "display_name": "myenv38",
   "language": "python",
   "name": "python3"
  },
  "language_info": {
   "codemirror_mode": {
    "name": "ipython",
    "version": 3
   },
   "file_extension": ".py",
   "mimetype": "text/x-python",
   "name": "python",
   "nbconvert_exporter": "python",
   "pygments_lexer": "ipython3",
   "version": "3.8.20"
  }
 },
 "nbformat": 4,
 "nbformat_minor": 5
}
