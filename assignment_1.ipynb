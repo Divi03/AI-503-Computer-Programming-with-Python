{
 "cells": [
  {
   "cell_type": "markdown",
   "id": "705370fc",
   "metadata": {},
   "source": [
    "## Assignment 1 [AI-503 Computer Programing with Python]\n",
    "Divyansh Sehgal [25901327]\n",
    "### Date of Assignment: 05/09/2025\n",
    "Submition Date: 12/09/2025"
   ]
  },
  {
   "cell_type": "markdown",
   "id": "48e55467",
   "metadata": {},
   "source": [
    "### Q1) Write a Python program to get a list, sorted in increasing order by the last element in each tuple from a given list of non-empty tuples.\n",
    "Sample List : [(2, 5), (1, 2), (4, 4), (2, 3), (2, 1)]"
   ]
  },
  {
   "cell_type": "code",
   "execution_count": null,
   "id": "6a42c483",
   "metadata": {},
   "outputs": [
    {
     "name": "stdout",
     "output_type": "stream",
     "text": [
      "[(1, 2), (2, 1), (2, 3), (2, 5), (4, 4)]\n"
     ]
    }
   ],
   "source": [
    "lst = [(2, 5), (1, 2), (4, 4), (2, 3), (2, 1)]\n",
    "map = {}\n",
    "\n",
    "for key, value in lst:\n",
    "    if key not in map:\n",
    "        map[key] = []\n",
    "    map[key].append(value)\n",
    "\n",
    "for values in map.values():\n",
    "    values.sort()\n",
    "\n",
    "keys = list(map.keys())\n",
    "keys.sort()\n",
    "\n",
    "result = []\n",
    "for key in keys:\n",
    "    for value in map[key]:\n",
    "        result.append((key, value))\n",
    "\n",
    "print(result)"
   ]
  },
  {
   "cell_type": "markdown",
   "id": "41c2897e",
   "metadata": {},
   "source": [
    "### Q2) Write a Python program to get a string from a given string where all occurrences of its first char have been changed to &#39;$&#39;, except the first char itself. Sample String : &#39;restart&#39;"
   ]
  },
  {
   "cell_type": "code",
   "execution_count": 33,
   "id": "d0dcece2",
   "metadata": {},
   "outputs": [
    {
     "name": "stdout",
     "output_type": "stream",
     "text": [
      "resta$t\n"
     ]
    }
   ],
   "source": [
    "def replace_char(s):\n",
    "    if not s:\n",
    "        return s\n",
    "    result = s[0]\n",
    "    for i in range(1,len(s)):\n",
    "        if(s[i]==s[0]):\n",
    "            result+='$'\n",
    "        else:\n",
    "            result+=s[i]\n",
    "    return result\n",
    "\n",
    "sample = 'restart'\n",
    "result = replace_char(sample)\n",
    "print(result)"
   ]
  },
  {
   "cell_type": "markdown",
   "id": "1f899383",
   "metadata": {},
   "source": [
    "### Q3) Write a Python program to find the first appearance of the substring &#39;not&#39; and &#39;poor&#39; from a given string, if &#39;bad&#39; follows the &#39;poor&#39;, replace the whole &#39;not&#39;...&#39;poor&#39; substring with &#39;good&#39;. Return the resulting string.\n",
    "Sample String : &#39;The lyrics is not that poor!&#39;"
   ]
  },
  {
   "cell_type": "code",
   "execution_count": 35,
   "id": "a0685b75",
   "metadata": {},
   "outputs": [
    {
     "data": {
      "text/plain": [
       "'The lyrics is good'"
      ]
     },
     "execution_count": 35,
     "metadata": {},
     "output_type": "execute_result"
    }
   ],
   "source": [
    "s = \"The lyrics is not that poor\"\n",
    "\n",
    "not_index = s.find('not')\n",
    "poor_index = s.find('poor')\n",
    "\n",
    "if not_index != -1 and poor_index != -1 and not_index < poor_index:\n",
    "    s = s[:not_index] + 'good' + s[poor_index + 4:]\n",
    "\n",
    "s"
   ]
  },
  {
   "cell_type": "markdown",
   "id": "a1cc0c67",
   "metadata": {},
   "source": [
    "### Q4) Write a python program to sort a dictionary by value."
   ]
  },
  {
   "cell_type": "code",
   "execution_count": 41,
   "id": "60c799a6",
   "metadata": {},
   "outputs": [
    {
     "data": {
      "text/plain": [
       "{'banana': 1, 'apple': 3, 'cherry': 2}"
      ]
     },
     "execution_count": 41,
     "metadata": {},
     "output_type": "execute_result"
    }
   ],
   "source": [
    "d = {'apple': 3, 'banana': 1, 'cherry': 2}\n",
    "items = list(d.items())\n",
    "\n",
    "for i in range(len(d)):\n",
    "    min_idx=1\n",
    "    for j in range(i+1, len(items)):\n",
    "        if items[j][1] < items[min_idx][1]:\n",
    "            min_idx = j\n",
    "    items[i], items[min_idx] = items[min_idx], items[i]\n",
    "\n",
    "dict(items)"
   ]
  },
  {
   "cell_type": "markdown",
   "id": "23ee982b",
   "metadata": {},
   "source": [
    "### Q5) Write a python program to add key to a dictionary."
   ]
  },
  {
   "cell_type": "code",
   "execution_count": 43,
   "id": "51a9c033",
   "metadata": {},
   "outputs": [
    {
     "data": {
      "text/plain": [
       "{'a': 1, 'b': 2, 'c': 3}"
      ]
     },
     "execution_count": 43,
     "metadata": {},
     "output_type": "execute_result"
    }
   ],
   "source": [
    "\n",
    "my_dict = {'a': 1, 'b': 2}\n",
    "\n",
    "my_dict['c'] = 3\n",
    "\n",
    "my_dict"
   ]
  }
 ],
 "metadata": {
  "kernelspec": {
   "display_name": "myenv38",
   "language": "python",
   "name": "python3"
  },
  "language_info": {
   "codemirror_mode": {
    "name": "ipython",
    "version": 3
   },
   "file_extension": ".py",
   "mimetype": "text/x-python",
   "name": "python",
   "nbconvert_exporter": "python",
   "pygments_lexer": "ipython3",
   "version": "3.8.20"
  }
 },
 "nbformat": 4,
 "nbformat_minor": 5
}
